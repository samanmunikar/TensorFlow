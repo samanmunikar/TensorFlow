{
  "nbformat": 4,
  "nbformat_minor": 0,
  "metadata": {
    "colab": {
      "name": "Predicting Stock Price using TensorFlow2 and Keras",
      "provenance": [],
      "authorship_tag": "ABX9TyPP2c+xRRWQeoIewQisws8W",
      "include_colab_link": true
    },
    "kernelspec": {
      "name": "python3",
      "display_name": "Python 3"
    },
    "accelerator": "GPU"
  },
  "cells": [
    {
      "cell_type": "markdown",
      "metadata": {
        "id": "view-in-github",
        "colab_type": "text"
      },
      "source": [
        "<a href=\"https://colab.research.google.com/github/samanmunikar/TensorFlow/blob/master/Predicting_Stock_Price_using_TensorFlow2_and_Keras.ipynb\" target=\"_parent\"><img src=\"https://colab.research.google.com/assets/colab-badge.svg\" alt=\"Open In Colab\"/></a>"
      ]
    },
    {
      "cell_type": "code",
      "metadata": {
        "id": "4ZHUT2mrzzN4",
        "colab_type": "code",
        "outputId": "96bdf382-19d3-400d-9177-33196660bc6d",
        "colab": {
          "base_uri": "https://localhost:8080/",
          "height": 615
        }
      },
      "source": [
        "# pip install tensorflow==2.0\n",
        "pip install tensorflow-gpu==2.0"
      ],
      "execution_count": 46,
      "outputs": [
        {
          "output_type": "stream",
          "text": [
            "Requirement already satisfied: tensorflow-gpu==2.0 in /usr/local/lib/python3.6/dist-packages (2.0.0)\n",
            "Requirement already satisfied: wrapt>=1.11.1 in /usr/local/lib/python3.6/dist-packages (from tensorflow-gpu==2.0) (1.11.2)\n",
            "Requirement already satisfied: numpy<2.0,>=1.16.0 in /usr/local/lib/python3.6/dist-packages (from tensorflow-gpu==2.0) (1.17.5)\n",
            "Requirement already satisfied: tensorflow-estimator<2.1.0,>=2.0.0 in /usr/local/lib/python3.6/dist-packages (from tensorflow-gpu==2.0) (2.0.1)\n",
            "Requirement already satisfied: termcolor>=1.1.0 in /usr/local/lib/python3.6/dist-packages (from tensorflow-gpu==2.0) (1.1.0)\n",
            "Requirement already satisfied: opt-einsum>=2.3.2 in /usr/local/lib/python3.6/dist-packages (from tensorflow-gpu==2.0) (3.1.0)\n",
            "Requirement already satisfied: gast==0.2.2 in /usr/local/lib/python3.6/dist-packages (from tensorflow-gpu==2.0) (0.2.2)\n",
            "Requirement already satisfied: absl-py>=0.7.0 in /usr/local/lib/python3.6/dist-packages (from tensorflow-gpu==2.0) (0.9.0)\n",
            "Requirement already satisfied: grpcio>=1.8.6 in /usr/local/lib/python3.6/dist-packages (from tensorflow-gpu==2.0) (1.27.1)\n",
            "Requirement already satisfied: protobuf>=3.6.1 in /usr/local/lib/python3.6/dist-packages (from tensorflow-gpu==2.0) (3.10.0)\n",
            "Requirement already satisfied: google-pasta>=0.1.6 in /usr/local/lib/python3.6/dist-packages (from tensorflow-gpu==2.0) (0.1.8)\n",
            "Requirement already satisfied: astor>=0.6.0 in /usr/local/lib/python3.6/dist-packages (from tensorflow-gpu==2.0) (0.8.1)\n",
            "Requirement already satisfied: six>=1.10.0 in /usr/local/lib/python3.6/dist-packages (from tensorflow-gpu==2.0) (1.12.0)\n",
            "Requirement already satisfied: wheel>=0.26 in /usr/local/lib/python3.6/dist-packages (from tensorflow-gpu==2.0) (0.34.2)\n",
            "Requirement already satisfied: keras-preprocessing>=1.0.5 in /usr/local/lib/python3.6/dist-packages (from tensorflow-gpu==2.0) (1.1.0)\n",
            "Requirement already satisfied: keras-applications>=1.0.8 in /usr/local/lib/python3.6/dist-packages (from tensorflow-gpu==2.0) (1.0.8)\n",
            "Requirement already satisfied: tensorboard<2.1.0,>=2.0.0 in /usr/local/lib/python3.6/dist-packages (from tensorflow-gpu==2.0) (2.0.2)\n",
            "Requirement already satisfied: setuptools in /usr/local/lib/python3.6/dist-packages (from protobuf>=3.6.1->tensorflow-gpu==2.0) (45.1.0)\n",
            "Requirement already satisfied: h5py in /usr/local/lib/python3.6/dist-packages (from keras-applications>=1.0.8->tensorflow-gpu==2.0) (2.8.0)\n",
            "Requirement already satisfied: google-auth<2,>=1.6.3 in /usr/local/lib/python3.6/dist-packages (from tensorboard<2.1.0,>=2.0.0->tensorflow-gpu==2.0) (1.7.2)\n",
            "Requirement already satisfied: google-auth-oauthlib<0.5,>=0.4.1 in /usr/local/lib/python3.6/dist-packages (from tensorboard<2.1.0,>=2.0.0->tensorflow-gpu==2.0) (0.4.1)\n",
            "Requirement already satisfied: requests<3,>=2.21.0 in /usr/local/lib/python3.6/dist-packages (from tensorboard<2.1.0,>=2.0.0->tensorflow-gpu==2.0) (2.21.0)\n",
            "Requirement already satisfied: markdown>=2.6.8 in /usr/local/lib/python3.6/dist-packages (from tensorboard<2.1.0,>=2.0.0->tensorflow-gpu==2.0) (3.2.1)\n",
            "Requirement already satisfied: werkzeug>=0.11.15 in /usr/local/lib/python3.6/dist-packages (from tensorboard<2.1.0,>=2.0.0->tensorflow-gpu==2.0) (1.0.0)\n",
            "Requirement already satisfied: pyasn1-modules>=0.2.1 in /usr/local/lib/python3.6/dist-packages (from google-auth<2,>=1.6.3->tensorboard<2.1.0,>=2.0.0->tensorflow-gpu==2.0) (0.2.8)\n",
            "Requirement already satisfied: rsa<4.1,>=3.1.4 in /usr/local/lib/python3.6/dist-packages (from google-auth<2,>=1.6.3->tensorboard<2.1.0,>=2.0.0->tensorflow-gpu==2.0) (4.0)\n",
            "Requirement already satisfied: cachetools<3.2,>=2.0.0 in /usr/local/lib/python3.6/dist-packages (from google-auth<2,>=1.6.3->tensorboard<2.1.0,>=2.0.0->tensorflow-gpu==2.0) (3.1.1)\n",
            "Requirement already satisfied: requests-oauthlib>=0.7.0 in /usr/local/lib/python3.6/dist-packages (from google-auth-oauthlib<0.5,>=0.4.1->tensorboard<2.1.0,>=2.0.0->tensorflow-gpu==2.0) (1.3.0)\n",
            "Requirement already satisfied: urllib3<1.25,>=1.21.1 in /usr/local/lib/python3.6/dist-packages (from requests<3,>=2.21.0->tensorboard<2.1.0,>=2.0.0->tensorflow-gpu==2.0) (1.24.3)\n",
            "Requirement already satisfied: idna<2.9,>=2.5 in /usr/local/lib/python3.6/dist-packages (from requests<3,>=2.21.0->tensorboard<2.1.0,>=2.0.0->tensorflow-gpu==2.0) (2.8)\n",
            "Requirement already satisfied: chardet<3.1.0,>=3.0.2 in /usr/local/lib/python3.6/dist-packages (from requests<3,>=2.21.0->tensorboard<2.1.0,>=2.0.0->tensorflow-gpu==2.0) (3.0.4)\n",
            "Requirement already satisfied: certifi>=2017.4.17 in /usr/local/lib/python3.6/dist-packages (from requests<3,>=2.21.0->tensorboard<2.1.0,>=2.0.0->tensorflow-gpu==2.0) (2019.11.28)\n",
            "Requirement already satisfied: pyasn1<0.5.0,>=0.4.6 in /usr/local/lib/python3.6/dist-packages (from pyasn1-modules>=0.2.1->google-auth<2,>=1.6.3->tensorboard<2.1.0,>=2.0.0->tensorflow-gpu==2.0) (0.4.8)\n",
            "Requirement already satisfied: oauthlib>=3.0.0 in /usr/local/lib/python3.6/dist-packages (from requests-oauthlib>=0.7.0->google-auth-oauthlib<0.5,>=0.4.1->tensorboard<2.1.0,>=2.0.0->tensorflow-gpu==2.0) (3.1.0)\n"
          ],
          "name": "stdout"
        }
      ]
    },
    {
      "cell_type": "code",
      "metadata": {
        "id": "9HyDV5Zyz3Zb",
        "colab_type": "code",
        "outputId": "fbfe85cd-e84b-4c73-ccda-beba66a3c1f5",
        "colab": {
          "base_uri": "https://localhost:8080/",
          "height": 51
        }
      },
      "source": [
        "import tensorflow \n",
        "print(tensorflow.__version__)\n",
        "print(\"Num GPUs Available: \", len(tensorflow.config.experimental.list_physical_devices('GPU')))"
      ],
      "execution_count": 47,
      "outputs": [
        {
          "output_type": "stream",
          "text": [
            "1.15.0\n",
            "Num GPUs Available:  1\n"
          ],
          "name": "stdout"
        }
      ]
    },
    {
      "cell_type": "code",
      "metadata": {
        "id": "Aae6RedUz6C9",
        "colab_type": "code",
        "outputId": "b581a60e-d2e2-4a72-fe1c-ea8c7c9c44b4",
        "colab": {
          "base_uri": "https://localhost:8080/",
          "height": 34
        }
      },
      "source": [
        "pip install yahoo_fin"
      ],
      "execution_count": 48,
      "outputs": [
        {
          "output_type": "stream",
          "text": [
            "Requirement already satisfied: yahoo_fin in /usr/local/lib/python3.6/dist-packages (0.8.4)\n"
          ],
          "name": "stdout"
        }
      ]
    },
    {
      "cell_type": "code",
      "metadata": {
        "id": "7lhSKd0kz83_",
        "colab_type": "code",
        "outputId": "0896516a-7ba3-4314-a64d-a004f31b75a5",
        "colab": {
          "base_uri": "https://localhost:8080/",
          "height": 357
        }
      },
      "source": [
        "pip install requests_html"
      ],
      "execution_count": 49,
      "outputs": [
        {
          "output_type": "stream",
          "text": [
            "Requirement already satisfied: requests_html in /usr/local/lib/python3.6/dist-packages (0.10.0)\n",
            "Requirement already satisfied: fake-useragent in /usr/local/lib/python3.6/dist-packages (from requests_html) (0.1.11)\n",
            "Requirement already satisfied: w3lib in /usr/local/lib/python3.6/dist-packages (from requests_html) (1.21.0)\n",
            "Requirement already satisfied: pyquery in /usr/local/lib/python3.6/dist-packages (from requests_html) (1.4.1)\n",
            "Requirement already satisfied: requests in /usr/local/lib/python3.6/dist-packages (from requests_html) (2.21.0)\n",
            "Requirement already satisfied: bs4 in /usr/local/lib/python3.6/dist-packages (from requests_html) (0.0.1)\n",
            "Requirement already satisfied: parse in /usr/local/lib/python3.6/dist-packages (from requests_html) (1.14.0)\n",
            "Requirement already satisfied: pyppeteer>=0.0.14 in /usr/local/lib/python3.6/dist-packages (from requests_html) (0.0.25)\n",
            "Requirement already satisfied: six>=1.4.1 in /usr/local/lib/python3.6/dist-packages (from w3lib->requests_html) (1.12.0)\n",
            "Requirement already satisfied: lxml>=2.1 in /usr/local/lib/python3.6/dist-packages (from pyquery->requests_html) (4.2.6)\n",
            "Requirement already satisfied: cssselect>0.7.9 in /usr/local/lib/python3.6/dist-packages (from pyquery->requests_html) (1.1.0)\n",
            "Requirement already satisfied: urllib3<1.25,>=1.21.1 in /usr/local/lib/python3.6/dist-packages (from requests->requests_html) (1.24.3)\n",
            "Requirement already satisfied: idna<2.9,>=2.5 in /usr/local/lib/python3.6/dist-packages (from requests->requests_html) (2.8)\n",
            "Requirement already satisfied: certifi>=2017.4.17 in /usr/local/lib/python3.6/dist-packages (from requests->requests_html) (2019.11.28)\n",
            "Requirement already satisfied: chardet<3.1.0,>=3.0.2 in /usr/local/lib/python3.6/dist-packages (from requests->requests_html) (3.0.4)\n",
            "Requirement already satisfied: beautifulsoup4 in /usr/local/lib/python3.6/dist-packages (from bs4->requests_html) (4.6.3)\n",
            "Requirement already satisfied: tqdm in /usr/local/lib/python3.6/dist-packages (from pyppeteer>=0.0.14->requests_html) (4.28.1)\n",
            "Requirement already satisfied: websockets in /usr/local/lib/python3.6/dist-packages (from pyppeteer>=0.0.14->requests_html) (8.1)\n",
            "Requirement already satisfied: pyee in /usr/local/lib/python3.6/dist-packages (from pyppeteer>=0.0.14->requests_html) (7.0.1)\n",
            "Requirement already satisfied: appdirs in /usr/local/lib/python3.6/dist-packages (from pyppeteer>=0.0.14->requests_html) (1.4.3)\n"
          ],
          "name": "stdout"
        }
      ]
    },
    {
      "cell_type": "code",
      "metadata": {
        "id": "5UW4YTlmz-_e",
        "colab_type": "code",
        "colab": {}
      },
      "source": [
        "from tensorflow.keras.models import Sequential\n",
        "from tensorflow.keras.layers import LSTM, Dense, Dropout\n",
        "from tensorflow.keras.callbacks import ModelCheckpoint, TensorBoard\n",
        "from sklearn import preprocessing\n",
        "from sklearn.model_selection import train_test_split\n",
        "from sklearn.metrics import accuracy_score\n",
        "from yahoo_fin import stock_info as si\n",
        "from collections import deque\n",
        "import numpy as np\n",
        "import pandas as pd\n",
        "import matplotlib.pyplot as plt\n",
        "import random\n",
        "import time\n",
        "import os"
      ],
      "execution_count": 0,
      "outputs": []
    },
    {
      "cell_type": "code",
      "metadata": {
        "id": "xZnZ10Tt0Bi-",
        "colab_type": "code",
        "colab": {}
      },
      "source": [
        "# Preparing the Dataset\n",
        "def load_data(ticker, n_steps=50, scale=True, shuffle=True, lookup_step=1, test_size=0.2,\n",
        "              feature_columns=['adjclose', 'volume', 'open', 'high', 'low']):\n",
        "  #see if ticker is already a loaded stock from yahoo finance\n",
        "  if isinstance(ticker, str):\n",
        "    #load it from yahoo_fin library\n",
        "    df = si.get_data(ticker)\n",
        "  elif isinstance(ticker, pd.DataFrame):\n",
        "    df = ticker\n",
        "\n",
        "  # this will contain all the elements we want to return from this function\n",
        "  result = {}\n",
        "  #we will also return original dataframe from this function\n",
        "  result['df'] = df.copy()\n",
        "  # check column passed is in the dataframe itself\n",
        "  for column in feature_columns:\n",
        "    assert column in df.columns\n",
        "\n",
        "  if scale:\n",
        "    column_scaler = {}\n",
        "    # scale the data(prices) from 0 to 1\n",
        "    for column in feature_columns:\n",
        "      scalar = preprocessing.MinMaxScaler()\n",
        "      df[column] = scalar.fit_transform(np.expand_dims(df[column].values, axis=1))\n",
        "      column_scaler[column] = scalar\n",
        "\n",
        "    # add the MinMaxScalar instances to the result returned\n",
        "    result['column_scaler'] = column_scaler\n",
        "\n",
        "  # add the target column(label) by shifting by lookup_step\n",
        "  df['future'] = df['adjclose'].shift(-lookup_step)\n",
        "\n",
        "  # last lookup_state columns contains NaN in future column\n",
        "  # get them before dropping NaN\n",
        "  last_sequence = np.array(df[feature_columns].tail(lookup_step))\n",
        "\n",
        "  #drop NaNs\n",
        "  df.dropna(inplace=True)\n",
        "\n",
        "  sequence_data = []\n",
        "  sequences = deque(maxlen=n_steps)\n",
        "  for entry, target in zip(df[feature_columns].values, df['future'].values):\n",
        "    sequences.append(entry)\n",
        "    if len(sequences) == n_steps:\n",
        "      sequence_data.append([np.array(sequences), target])\n",
        "\n",
        "  # get the last sequence by appending the last 'n_step' sequence with 'lookup_step' sequence\n",
        "  # for instance, if n_steps = 50 and lookup_step=10, last_sequence should beof 59(50+10-1) length\n",
        "  # this last_sequence will be used to predict in future dates that are not available in the dataset\n",
        "  last_sequence = list(sequences) + list(last_sequence)\n",
        "  # shift the last sequence by -1\n",
        "  last_sequence = np.array(pd.DataFrame(last_sequence).shift(-1).dropna())\n",
        "  # add to result\n",
        "  result['last_sequence'] = last_sequence\n",
        "  # construct the X's and Y's\n",
        "  X, y = [], []\n",
        "\n",
        "  for seq, target in sequence_data:\n",
        "    X.append(seq)\n",
        "    y.append(target)\n",
        "\n",
        "  # convert to numpy array\n",
        "  X = np.array(X)\n",
        "  y = np.array(y)\n",
        "\n",
        "  # reshape X to fit the neural network\n",
        "  X = X.reshape((X.shape[0], X.shape[2], X.shape[1]))\n",
        "\n",
        "  # split the dataset\n",
        "  result[\"X_train\"], result[\"X_test\"], result[\"y_train\"], result[\"y_test\"] = train_test_split(X,y,test_size= test_size, shuffle=shuffle)\n",
        "\n",
        "  # return the result\n",
        "  return result\n"
      ],
      "execution_count": 0,
      "outputs": []
    },
    {
      "cell_type": "code",
      "metadata": {
        "id": "grgbpjLO0ER-",
        "colab_type": "code",
        "colab": {}
      },
      "source": [
        "# Model Creation\n",
        "\n",
        "def create_model(input_length, units=256, cell=LSTM, n_layers=2, dropout=0.3,\n",
        "                 loss=\"mean_absolute_error\", optimizer=\"rmsprop\"):\n",
        "  model = Sequential()\n",
        "  for i in range(n_layers):\n",
        "    if i==0:\n",
        "      #First layer\n",
        "      model.add(cell(units, return_sequences=True, input_shape=(None, input_length)))\n",
        "    elif i == n_layers - 1:\n",
        "      # Last layer\n",
        "      model.add(cell(units, return_sequences=False))\n",
        "    else:\n",
        "      # hidden layer\n",
        "      model.add(cell(units, return_sequences=True))\n",
        "\n",
        "    # add dropout after each layer\n",
        "    model.add(Dropout(dropout))\n",
        "\n",
        "  model.add(Dense(1, activation=\"linear\"))\n",
        "  model.compile(loss=loss, metrics=[\"mean_absolute_error\"], optimizer=optimizer)\n",
        "\n",
        "  return model"
      ],
      "execution_count": 0,
      "outputs": []
    },
    {
      "cell_type": "code",
      "metadata": {
        "id": "I66ZjJ1X1gWg",
        "colab_type": "code",
        "colab": {}
      },
      "source": [
        "# Training the model\n",
        "# Window size or the sequence length\n",
        "N_STEPS = 50\n",
        "# Lookup step, 1 is the next day\n",
        "LOOKUP_STEP = 1\n",
        "# test ratio size, 0.2 is 20%\n",
        "TEST_SIZE = 0.2\n",
        "# features to use\n",
        "FEATURE_COLUMNS = [\"adjclose\", \"volume\", \"open\", \"high\", \"low\"]\n",
        "# date now\n",
        "date_now = time.strftime(\"%Y-%m-%d\")\n",
        "### model parameters\n",
        "N_LAYERS = 3\n",
        "# LSTM cell\n",
        "CELL = LSTM\n",
        "# 256 LSTM neurons\n",
        "UNITS = 256\n",
        "# 40% dropout\n",
        "DROPOUT = 0.4\n",
        "### training parameters\n",
        "# mean squared error loss\n",
        "LOSS = \"mse\"\n",
        "OPTIMIZER = \"rmsprop\"\n",
        "BATCH_SIZE = 64\n",
        "EPOCHS = 10\n",
        "# Apple stock market\n",
        "ticker = \"AAPL\"\n",
        "ticker_data_filename = os.path.join(\"data\", f\"{ticker}_{date_now}.csv\")\n",
        "# model name to save\n",
        "model_name = f\"{date_now}_{ticker}-{LOSS}-{CELL.__name__}-seq-{N_STEPS}-step-{LOOKUP_STEP}-layers-{N_LAYERS}-units-{UNITS}\""
      ],
      "execution_count": 0,
      "outputs": []
    },
    {
      "cell_type": "code",
      "metadata": {
        "id": "mV87iqmC2_uI",
        "colab_type": "code",
        "colab": {}
      },
      "source": [
        "# create these folders if they does not exist\n",
        "if not os.path.isdir(\"results\"):\n",
        "    os.mkdir(\"results\")\n",
        "if not os.path.isdir(\"logs\"):\n",
        "    os.mkdir(\"logs\")\n",
        "if not os.path.isdir(\"data\"):\n",
        "    os.mkdir(\"data\")"
      ],
      "execution_count": 0,
      "outputs": []
    },
    {
      "cell_type": "code",
      "metadata": {
        "id": "HjUUdxY-3GKI",
        "colab_type": "code",
        "colab": {}
      },
      "source": [
        "# load the CSV file from disk (dataset) if it already exists (without downloading)\n",
        "if os.path.isfile(ticker_data_filename):\n",
        "    ticker = pd.read_csv(ticker_data_filename)"
      ],
      "execution_count": 0,
      "outputs": []
    },
    {
      "cell_type": "code",
      "metadata": {
        "id": "svAanBnE3W7u",
        "colab_type": "code",
        "outputId": "f60a9b2a-4557-4847-f325-b537d638a1e7",
        "colab": {
          "base_uri": "https://localhost:8080/",
          "height": 734
        }
      },
      "source": [
        "# load the data\n",
        "\n",
        "data = load_data(ticker, N_STEPS, lookup_step=LOOKUP_STEP, test_size=TEST_SIZE, feature_columns=FEATURE_COLUMNS)\n",
        "if not os.path.isfile(ticker_data_filename):\n",
        "  # save the CSV file(dataset)\n",
        "  data[\"df\"] .to_csv(ticker_data_filename)\n",
        "\n",
        "# construct the model\n",
        "model = create_model(N_STEPS, loss=LOSS, units=UNITS, cell=CELL, n_layers=N_LAYERS, dropout=DROPOUT, optimizer=OPTIMIZER)\n",
        "\n",
        "#some tensorflow callbacks\n",
        "checkpointer = ModelCheckpoint(os.path.join(\"results\", model_name), save_best_only=True, verbose=1)\n",
        "tensorboard = TensorBoard(log_dir=os.path.join(\"logs\", model_name))\n",
        "\n",
        "history = model.fit(data[\"X_train\"], data[\"y_train\"],\n",
        "                    batch_size=BATCH_SIZE,\n",
        "                    epochs=EPOCHS,\n",
        "                    validation_data=(data[\"X_test\"], data[\"y_test\"]),\n",
        "                    callbacks=[checkpointer, tensorboard],\n",
        "                    verbose=1)\n",
        "\n",
        "model.save(os.path.join(\"results\", model_name) + \".h5\")"
      ],
      "execution_count": 56,
      "outputs": [
        {
          "output_type": "stream",
          "text": [
            "Train on 7861 samples, validate on 1966 samples\n",
            "Epoch 1/10\n",
            "7808/7861 [============================>.] - ETA: 0s - loss: 0.0040 - mean_absolute_error: 0.0278\n",
            "Epoch 00001: val_loss improved from inf to 0.00080, saving model to results/2020-02-19_AAPL-mse-LSTM-seq-50-step-1-layers-3-units-256\n",
            "7861/7861 [==============================] - 7s 929us/sample - loss: 0.0040 - mean_absolute_error: 0.0278 - val_loss: 8.0063e-04 - val_mean_absolute_error: 0.0186\n",
            "Epoch 2/10\n",
            "7744/7861 [============================>.] - ETA: 0s - loss: 0.0020 - mean_absolute_error: 0.0205\n",
            "Epoch 00002: val_loss did not improve from 0.00080\n",
            "7861/7861 [==============================] - 4s 488us/sample - loss: 0.0020 - mean_absolute_error: 0.0207 - val_loss: 0.0022 - val_mean_absolute_error: 0.0213\n",
            "Epoch 3/10\n",
            "7744/7861 [============================>.] - ETA: 0s - loss: 0.0015 - mean_absolute_error: 0.0187\n",
            "Epoch 00003: val_loss did not improve from 0.00080\n",
            "7861/7861 [==============================] - 4s 484us/sample - loss: 0.0015 - mean_absolute_error: 0.0189 - val_loss: 0.0016 - val_mean_absolute_error: 0.0228\n",
            "Epoch 4/10\n",
            "7744/7861 [============================>.] - ETA: 0s - loss: 0.0014 - mean_absolute_error: 0.0188\n",
            "Epoch 00004: val_loss did not improve from 0.00080\n",
            "7861/7861 [==============================] - 4s 482us/sample - loss: 0.0014 - mean_absolute_error: 0.0188 - val_loss: 0.0020 - val_mean_absolute_error: 0.0229\n",
            "Epoch 5/10\n",
            "7744/7861 [============================>.] - ETA: 0s - loss: 0.0012 - mean_absolute_error: 0.0176\n",
            "Epoch 00005: val_loss did not improve from 0.00080\n",
            "7861/7861 [==============================] - 4s 477us/sample - loss: 0.0012 - mean_absolute_error: 0.0177 - val_loss: 8.4292e-04 - val_mean_absolute_error: 0.0118\n",
            "Epoch 6/10\n",
            "7744/7861 [============================>.] - ETA: 0s - loss: 0.0010 - mean_absolute_error: 0.0168\n",
            "Epoch 00006: val_loss improved from 0.00080 to 0.00026, saving model to results/2020-02-19_AAPL-mse-LSTM-seq-50-step-1-layers-3-units-256\n",
            "7861/7861 [==============================] - 4s 498us/sample - loss: 0.0010 - mean_absolute_error: 0.0168 - val_loss: 2.5742e-04 - val_mean_absolute_error: 0.0071\n",
            "Epoch 7/10\n",
            "7744/7861 [============================>.] - ETA: 0s - loss: 9.6776e-04 - mean_absolute_error: 0.0169\n",
            "Epoch 00007: val_loss did not improve from 0.00026\n",
            "7861/7861 [==============================] - 4s 481us/sample - loss: 9.7852e-04 - mean_absolute_error: 0.0171 - val_loss: 6.8485e-04 - val_mean_absolute_error: 0.0148\n",
            "Epoch 8/10\n",
            "7744/7861 [============================>.] - ETA: 0s - loss: 9.7719e-04 - mean_absolute_error: 0.0164\n",
            "Epoch 00008: val_loss did not improve from 0.00026\n",
            "7861/7861 [==============================] - 4s 489us/sample - loss: 9.7181e-04 - mean_absolute_error: 0.0163 - val_loss: 2.8879e-04 - val_mean_absolute_error: 0.0066\n",
            "Epoch 9/10\n",
            "7744/7861 [============================>.] - ETA: 0s - loss: 9.0347e-04 - mean_absolute_error: 0.0162\n",
            "Epoch 00009: val_loss did not improve from 0.00026\n",
            "7861/7861 [==============================] - 4s 491us/sample - loss: 8.9489e-04 - mean_absolute_error: 0.0161 - val_loss: 3.2924e-04 - val_mean_absolute_error: 0.0066\n",
            "Epoch 10/10\n",
            "7744/7861 [============================>.] - ETA: 0s - loss: 8.3021e-04 - mean_absolute_error: 0.0156\n",
            "Epoch 00010: val_loss did not improve from 0.00026\n",
            "7861/7861 [==============================] - 4s 496us/sample - loss: 8.2535e-04 - mean_absolute_error: 0.0156 - val_loss: 2.8829e-04 - val_mean_absolute_error: 0.0148\n"
          ],
          "name": "stdout"
        }
      ]
    },
    {
      "cell_type": "code",
      "metadata": {
        "id": "FMbgVqlC3wlR",
        "colab_type": "code",
        "colab": {}
      },
      "source": [
        " # !tensorboard --logdir=\"logs\" --bind_all"
      ],
      "execution_count": 0,
      "outputs": []
    },
    {
      "cell_type": "code",
      "metadata": {
        "id": "REFE3zIyNXpe",
        "colab_type": "code",
        "colab": {
          "base_uri": "https://localhost:8080/",
          "height": 51
        },
        "outputId": "91ca77be-865e-49d4-9b17-75798afad6f1"
      },
      "source": [
        "# evaluate the model\n",
        "mse, mae = model.evaluate(data[\"X_test\"], data[\"y_test\"])\n",
        "# calculate the mean absolute error (inverse scaling)\n",
        "mean_absolute_error = data[\"column_scaler\"][\"adjclose\"].inverse_transform(mae.reshape(1,-1))[0][0]\n",
        "print(\"Mean Absolute Error : \", mean_absolute_error)"
      ],
      "execution_count": 58,
      "outputs": [
        {
          "output_type": "stream",
          "text": [
            "1966/1966 [==============================] - 1s 257us/sample - loss: 2.8829e-04 - mean_absolute_error: 0.0148\n",
            "Mean Absolute Error :  4.9969025\n"
          ],
          "name": "stdout"
        }
      ]
    },
    {
      "cell_type": "code",
      "metadata": {
        "id": "cRBi8GhL9AW_",
        "colab_type": "code",
        "colab": {
          "base_uri": "https://localhost:8080/",
          "height": 1000
        },
        "outputId": "d41e2469-0191-4c43-aa7f-727daa0b2fba"
      },
      "source": [
        "data"
      ],
      "execution_count": 59,
      "outputs": [
        {
          "output_type": "execute_result",
          "data": {
            "text/plain": [
              "{'X_test': array([[[1.40604500e-04, 6.51147697e-03, 1.71945996e-04, ...,\n",
              "          1.51312421e-04, 1.56688762e-04, 1.58869612e-04],\n",
              "         [8.65257723e-05, 1.19241233e-02, 1.10045410e-04, ...,\n",
              "          1.23801080e-04, 1.29438554e-04, 1.31240127e-04],\n",
              "         [1.40604500e-04, 6.24582561e-03, 1.71945996e-04, ...,\n",
              "          3.30136229e-04, 3.33815156e-04, 3.38461362e-04],\n",
              "         [3.02840773e-04, 1.87555894e-02, 3.78281099e-04, ...,\n",
              "          4.26425968e-04, 4.29190928e-04, 4.35164608e-04],\n",
              "         [3.35288091e-04, 9.48194212e-03, 4.26425968e-04, ...,\n",
              "          3.98914628e-04, 4.08753341e-04, 4.07535123e-04]],\n",
              " \n",
              "        [[9.90391918e-03, 6.83652253e-02, 1.12617727e-02, ...,\n",
              "          1.30995306e-02, 1.30078929e-02, 1.28863988e-02],\n",
              "         [1.16670631e-02, 1.87244207e-01, 1.29652751e-02, ...,\n",
              "          1.32712025e-02, 1.34395361e-02, 1.31074339e-02],\n",
              "         [1.16556862e-02, 9.97422729e-02, 1.32117781e-02, ...,\n",
              "          1.33988552e-02, 1.34242757e-02, 1.34058334e-02],\n",
              "         [1.16594858e-02, 3.29558619e-02, 1.34186623e-02, ...,\n",
              "          1.36211461e-02, 1.35441765e-02, 1.33903606e-02],\n",
              "         [1.26529083e-02, 2.99998113e-01, 1.36937763e-02, ...,\n",
              "          1.50825504e-02, 1.50026096e-02, 1.48646704e-02]],\n",
              " \n",
              "        [[2.00530443e-01, 9.64699312e-02, 2.39423335e-01, ...,\n",
              "          2.55018982e-01, 2.52929728e-01, 2.52018616e-01],\n",
              "         [2.12235425e-01, 7.00244143e-02, 2.49921667e-01, ...,\n",
              "          2.50837243e-01, 2.49441713e-01, 2.50161895e-01],\n",
              "         [2.17217724e-01, 4.49939436e-02, 2.50731596e-01, ...,\n",
              "          2.51026531e-01, 2.49659708e-01, 2.49432489e-01],\n",
              "         [2.20960122e-01, 5.66169451e-02, 2.53812868e-01, ...,\n",
              "          2.64795399e-01, 2.64130676e-01, 2.64635344e-01],\n",
              "         [2.29646957e-01, 4.04125898e-02, 2.65750610e-01, ...,\n",
              "          2.52496736e-01, 2.54817637e-01, 2.52076081e-01]],\n",
              " \n",
              "        ...,\n",
              " \n",
              "        [[4.89630549e-03, 1.79224102e-02, 5.99059713e-03, ...,\n",
              "          6.29322234e-03, 6.26073817e-03, 6.05085997e-03],\n",
              "         [5.02097639e-03, 1.61609606e-02, 6.10064286e-03, ...,\n",
              "          5.96308588e-03, 6.00186097e-03, 5.96797178e-03],\n",
              "         [4.74813606e-03, 3.32411352e-02, 5.68797266e-03, ...,\n",
              "          5.38534745e-03, 5.38873116e-03, 5.38775231e-03],\n",
              "         [4.30523012e-03, 2.53093291e-02, 5.33032495e-03, ...,\n",
              "          4.42245006e-03, 4.40772333e-03, 4.31020190e-03],\n",
              "         [3.77146877e-03, 2.52066911e-02, 4.42245006e-03, ...,\n",
              "          4.42245006e-03, 4.53034921e-03, 4.39309045e-03]],\n",
              " \n",
              "        [[2.42538698e-01, 8.57929353e-02, 2.84132593e-01, ...,\n",
              "          2.77164517e-01, 2.74847621e-01, 2.68888068e-01],\n",
              "         [2.40962264e-01, 7.34937304e-02, 2.68963927e-01, ...,\n",
              "          2.59196301e-01, 2.56958400e-01, 2.55833696e-01],\n",
              "         [2.12980625e-01, 1.06769959e-01, 2.51981718e-01, ...,\n",
              "          2.51132177e-01, 2.48765910e-01, 2.44556436e-01],\n",
              "         [2.14395977e-01, 5.00809406e-02, 2.47760367e-01, ...,\n",
              "          2.49811625e-01, 2.47588685e-01, 2.37567265e-01],\n",
              "         [2.08864484e-01, 1.58461411e-01, 2.32217567e-01, ...,\n",
              "          2.33331223e-01, 2.32088771e-01, 2.31700971e-01]],\n",
              " \n",
              "        [[4.95049547e-01, 2.00745743e-02, 5.12850979e-01, ...,\n",
              "          5.37932529e-01, 5.36061695e-01, 5.37371670e-01],\n",
              "         [5.22222043e-01, 1.14450021e-02, 5.38702847e-01, ...,\n",
              "          5.04716424e-01, 5.00932908e-01, 4.96462325e-01],\n",
              "         [4.90828008e-01, 2.26839735e-02, 4.98954461e-01, ...,\n",
              "          5.83258055e-01, 5.79461490e-01, 5.79456894e-01],\n",
              "         [5.61034949e-01, 1.10139656e-02, 5.81779011e-01, ...,\n",
              "          5.79375623e-01, 5.78210149e-01, 5.80075786e-01],\n",
              "         [5.60288909e-01, 1.19494055e-02, 5.77434454e-01, ...,\n",
              "          5.88989223e-01, 5.85290868e-01, 5.87997755e-01]]]),\n",
              " 'X_train': array([[[4.97524592e-04, 2.64353286e-02, 5.70860577e-04, ...,\n",
              "          7.42806527e-04, 7.56193601e-04, 7.52903833e-04],\n",
              "         [6.05681682e-04, 1.71375312e-02, 7.49684431e-04, ...,\n",
              "          9.07874665e-04, 9.46945236e-04, 9.11773491e-04],\n",
              "         [7.30062796e-04, 1.46832749e-02, 9.28508193e-04, ...,\n",
              "          8.87241136e-04, 9.67382823e-04, 8.77236565e-04],\n",
              "         [7.19247114e-04, 2.25199899e-02, 8.73485512e-04, ...,\n",
              "          7.15295186e-04, 7.28943393e-04, 6.76922724e-04],\n",
              "         [5.46195114e-04, 3.14555355e-02, 6.67150317e-04, ...,\n",
              "          8.94119040e-04, 8.85632201e-04, 8.28884942e-04]],\n",
              " \n",
              "        [[3.63621958e-03, 4.01888238e-02, 4.00757889e-03, ...,\n",
              "          4.62603433e-03, 4.59084463e-03, 4.34556773e-03],\n",
              "         [3.83718063e-03, 4.83032652e-02, 4.53359590e-03, ...,\n",
              "          4.66785144e-03, 4.62572499e-03, 4.44724403e-03],\n",
              "         [3.86372169e-03, 2.92125928e-02, 4.51598860e-03, ...,\n",
              "          4.24527692e-03, 4.31180254e-03, 4.23725983e-03],\n",
              "         [3.59261421e-03, 3.17589214e-02, 4.33551439e-03, ...,\n",
              "          3.96135986e-03, 3.98697975e-03, 3.92780974e-03],\n",
              "         [3.64001116e-03, 4.85357101e-02, 4.01858332e-03, ...,\n",
              "          4.08020906e-03, 4.04148035e-03, 3.96759602e-03]],\n",
              " \n",
              "        [[4.37939557e-03, 7.07681626e-02, 4.76909334e-03, ...,\n",
              "          4.60182415e-03, 4.66932524e-03, 4.57102444e-03],\n",
              "         [4.07036974e-03, 2.97031422e-02, 4.65244510e-03, ...,\n",
              "          4.15063790e-03, 4.12432073e-03, 3.90349559e-03],\n",
              "         [3.33288221e-03, 7.10662657e-02, 3.87992623e-03, ...,\n",
              "          3.21745272e-03, 3.24795395e-03, 3.11881794e-03],\n",
              "         [2.66174879e-03, 7.51408443e-02, 3.08539850e-03, ...,\n",
              "          3.28568097e-03, 3.35477472e-03, 3.20502173e-03],\n",
              "         [2.99352410e-03, 5.01718810e-02, 3.18664003e-03, ...,\n",
              "          2.54177382e-03, 2.71166934e-03, 2.54191407e-03]],\n",
              " \n",
              "        ...,\n",
              " \n",
              "        [[4.11208077e-03, 2.62775981e-02, 4.61943145e-03, ...,\n",
              "          3.87992623e-03, 3.91721904e-03, 3.79960888e-03],\n",
              "         [3.22861083e-03, 4.72617911e-02, 3.79409067e-03, ...,\n",
              "          3.08539850e-03, 3.16293314e-03, 2.92430624e-03],\n",
              "         [2.75843701e-03, 3.37279111e-02, 3.08319754e-03, ...,\n",
              "          3.18664003e-03, 3.39401484e-03, 3.14313171e-03],\n",
              "         [2.84375158e-03, 5.95806180e-02, 3.47055746e-03, ...,\n",
              "          2.67382841e-03, 2.65280898e-03, 2.48886533e-03],\n",
              "         [2.24276476e-03, 2.78043387e-02, 2.57038592e-03, ...,\n",
              "          2.63861380e-03, 2.74654970e-03, 2.65685247e-03]],\n",
              " \n",
              "        [[1.92520332e-03, 2.38844718e-02, 2.46914402e-03, ...,\n",
              "          2.80615811e-03, 3.01796192e-03, 2.81130158e-03],\n",
              "         [2.27130750e-03, 6.32069100e-02, 3.05376045e-03, ...,\n",
              "          3.10190532e-03, 3.10652498e-03, 2.97017115e-03],\n",
              "         [2.44976748e-03, 6.01881446e-02, 3.00561558e-03, ...,\n",
              "          2.99185959e-03, 3.09971263e-03, 2.98398585e-03],\n",
              "         [2.37946560e-03, 4.05661695e-02, 3.08814933e-03, ...,\n",
              "          2.81303611e-03, 2.92258615e-03, 2.83202381e-03],\n",
              "         [2.41191182e-03, 2.91733488e-02, 2.85430298e-03, ...,\n",
              "          3.06063808e-03, 3.19508841e-03, 3.06687440e-03]],\n",
              " \n",
              "        [[5.30284869e-01, 1.66281145e-02, 5.52075554e-01, ...,\n",
              "          5.13559659e-01, 5.13476731e-01, 5.14627047e-01],\n",
              "         [4.96294346e-01, 2.52733196e-02, 5.14484050e-01, ...,\n",
              "          5.01758383e-01, 5.10729881e-01, 5.03424958e-01],\n",
              "         [5.13808686e-01, 2.73845147e-02, 5.22556966e-01, ...,\n",
              "          5.49518093e-01, 5.48086680e-01, 5.33689203e-01],\n",
              "         [5.23381460e-01, 2.05420517e-02, 5.31831624e-01, ...,\n",
              "          5.49394863e-01, 5.49490632e-01, 5.50430480e-01],\n",
              "         [5.28762463e-01, 2.10545410e-02, 5.49857035e-01, ...,\n",
              "          5.16456062e-01, 5.23578925e-01, 5.15864830e-01]]]),\n",
              " 'column_scaler': {'adjclose': MinMaxScaler(copy=True, feature_range=(0, 1)),\n",
              "  'high': MinMaxScaler(copy=True, feature_range=(0, 1)),\n",
              "  'low': MinMaxScaler(copy=True, feature_range=(0, 1)),\n",
              "  'open': MinMaxScaler(copy=True, feature_range=(0, 1)),\n",
              "  'volume': MinMaxScaler(copy=True, feature_range=(0, 1))},\n",
              " 'df':       Unnamed: 0        open        high  ...    adjclose       volume  ticker\n",
              " 0     1980-12-12    0.513393    0.515625  ...    0.406782  117258400.0    AAPL\n",
              " 1     1980-12-15    0.488839    0.488839  ...    0.385558   43971200.0    AAPL\n",
              " 2     1980-12-16    0.453125    0.453125  ...    0.357260   26432000.0    AAPL\n",
              " 3     1980-12-17    0.462054    0.464286  ...    0.366103   21610400.0    AAPL\n",
              " 4     1980-12-18    0.475446    0.477679  ...    0.376715   18362400.0    AAPL\n",
              " ...          ...         ...         ...  ...         ...          ...     ...\n",
              " 9874  2020-02-11  323.600006  323.899994  ...  319.609985   23580800.0    AAPL\n",
              " 9875  2020-02-12  321.470001  327.220001  ...  327.200012   28432600.0    AAPL\n",
              " 9876  2020-02-13  324.190002  326.220001  ...  324.869995   23686900.0    AAPL\n",
              " 9877  2020-02-14  324.739990  325.980011  ...  324.950012   20028400.0    AAPL\n",
              " 9878  2020-02-18  315.359985  319.750000  ...  319.000000   38132800.0    AAPL\n",
              " \n",
              " [9879 rows x 8 columns],\n",
              " 'last_sequence': array([[0.8096624 , 0.00984274, 0.81219655, 0.81089658, 0.81241119],\n",
              "        [0.82531122, 0.01410825, 0.82356645, 0.82649238, 0.826553  ],\n",
              "        [0.81375008, 0.01706864, 0.83133122, 0.82588193, 0.81915719],\n",
              "        [0.81850878, 0.01199846, 0.82701746, 0.82365402, 0.82209691],\n",
              "        [0.8254943 , 0.0104266 , 0.8276645 , 0.8267976 , 0.83026644],\n",
              "        [0.82759908, 0.01831765, 0.82449079, 0.83125353, 0.82661495],\n",
              "        [0.83885527, 0.01781594, 0.83582985, 0.83961605, 0.83778606],\n",
              "        [0.85322281, 0.01708799, 0.85290012, 0.85637172, 0.85650787],\n",
              "        [0.85490067, 0.01519754, 0.86081901, 0.85936265, 0.8621398 ],\n",
              "        [0.85285683, 0.01544956, 0.86152764, 0.85975943, 0.86313006],\n",
              "        [0.85371093, 0.01306969, 0.8606033 , 0.85756197, 0.86260405],\n",
              "        [0.85194171, 0.03700537, 0.86901521, 0.86204845, 0.86139714],\n",
              "        [0.86585173, 0.01309702, 0.86377701, 0.8669317 , 0.86699819],\n",
              "        [0.86667531, 0.00634615, 0.87659511, 0.86888504, 0.87488923],\n",
              "        [0.88387995, 0.01236244, 0.87699569, 0.88441984, 0.88039744],\n",
              "        [0.8835443 , 0.01952457, 0.89640766, 0.89659739, 0.89098059],\n",
              "        [0.88879112, 0.0192346 , 0.89129274, 0.8926908 , 0.88200655],\n",
              "        [0.89528852, 0.01339804, 0.89274094, 0.89571227, 0.89531288],\n",
              "        [0.91572664, 0.01807103, 0.91218376, 0.91683233, 0.91285876],\n",
              "        [0.90681924, 0.01953222, 0.91498773, 0.91677123, 0.91691255],\n",
              "        [0.91404878, 0.01576744, 0.9046347 , 0.91487899, 0.90530816],\n",
              "        [0.90974778, 0.01448511, 0.92327635, 0.9177479 , 0.9199452 ],\n",
              "        [0.92438985, 0.01761266, 0.91501857, 0.92855209, 0.91895494],\n",
              "        [0.94403481, 0.02273772, 0.94607775, 0.94683369, 0.94692928],\n",
              "        [0.94617   , 0.01876702, 0.95643087, 0.95367029, 0.95327297],\n",
              "        [0.96639453, 0.01619126, 0.95963542, 0.96709918, 0.96224701],\n",
              "        [0.95333861, 0.02163883, 0.97522664, 0.96862519, 0.96540347],\n",
              "        [0.94925102, 0.01624403, 0.96028246, 0.96230748, 0.95729579],\n",
              "        [0.96114772, 0.01447935, 0.96564384, 0.96291792, 0.96515586],\n",
              "        [0.97179392, 0.01838584, 0.97390163, 0.97219601, 0.97416087],\n",
              "        [0.96520488, 0.01475077, 0.97673644, 0.97305057, 0.97725538],\n",
              "        [0.96865197, 0.01353641, 0.98101936, 0.97601104, 0.98130917],\n",
              "        [0.97331912, 0.01389214, 0.9789858 , 0.97469869, 0.97617228],\n",
              "        [0.97051264, 0.01956117, 0.98616512, 0.98620479, 0.98195899],\n",
              "        [0.94196046, 0.02163689, 0.95476695, 0.95092339, 0.94284451],\n",
              "        [0.96862136, 0.02167651, 0.96259341, 0.97115833, 0.96546533],\n",
              "        [0.98890683, 0.02895325, 0.9991065 , 1.        , 0.99390382],\n",
              "        [0.98747316, 0.01689355, 0.98705872, 0.98852436, 0.98576526],\n",
              "        [0.94366874, 0.02671063, 0.98826036, 0.98422099, 0.95339678],\n",
              "        [0.94107585, 0.02326023, 0.9370188 , 0.95617288, 0.93461312],\n",
              "        [0.97215989, 0.01822413, 0.97094363, 0.9749429 , 0.96992142],\n",
              "        [0.98009115, 0.01582669, 0.99624084, 0.99056925, 0.9863842 ],\n",
              "        [0.99156075, 0.01402066, 0.99331369, 0.99197316, 0.99043799],\n",
              "        [0.97807633, 0.01567268, 0.9926974 , 0.98641845, 0.98344439],\n",
              "        [0.98272398, 0.01454937, 0.96746178, 0.98077219, 0.97060221],\n",
              "        [0.97679206, 0.01252443, 0.9964874 , 0.98794447, 0.98564146],\n",
              "        [1.        , 0.01513986, 0.98992428, 0.99807721, 0.99418232],\n",
              "        [0.99287553, 0.01258162, 0.99830534, 0.99502518, 1.        ],\n",
              "        [0.9931202 , 0.01060945, 1.        , 0.99429273, 0.99845275],\n",
              "        [0.97492691, 0.0203689 , 0.97109766, 0.97527858, 0.97295397]]),\n",
              " 'y_test': array([3.19064614e-04, 1.29391890e-02, 2.25142399e-01, ...,\n",
              "        3.83960969e-03, 1.99105922e-01, 5.73360418e-01]),\n",
              " 'y_train': array([0.00069762, 0.00334805, 0.00224656, ..., 0.00236789, 0.00259578,\n",
              "        0.49504955])}"
            ]
          },
          "metadata": {
            "tags": []
          },
          "execution_count": 59
        }
      ]
    },
    {
      "cell_type": "code",
      "metadata": {
        "id": "29qxnMSi_mBb",
        "colab_type": "code",
        "colab": {}
      },
      "source": [
        "# Predict \n",
        "def predict(model, data, classification=False):\n",
        "  # retrieve the last sequence from data\n",
        "  last_sequence = data[\"last_sequence\"][:N_STEPS]\n",
        "  # retrieve the column scalars\n",
        "  column_scaler = data[\"column_scaler\"]\n",
        "  # reshape the last sequence\n",
        "  last_sequence = last_sequence.reshape((last_sequence.shape[1], last_sequence.shape[0]))\n",
        "  # expand dims\n",
        "  last_sequence = np.expand_dims(last_sequence, axis=0)\n",
        "  # get the prediction (scaled 0 to 1)\n",
        "  prediction = model.predict(last_sequence)\n",
        "  # get the price(by inverting the scaling)\n",
        "  predicted_price = column_scaler[\"adjclose\"].inverse_transform(prediction)[0][0]\n",
        "  return predicted_price"
      ],
      "execution_count": 0,
      "outputs": []
    },
    {
      "cell_type": "code",
      "metadata": {
        "id": "xkdPGQZ5AwO2",
        "colab_type": "code",
        "colab": {}
      },
      "source": [
        "# last_seq = data[\"last_sequence\"][:N_STEPS]\n",
        "# column_scaler = data[\"column_scaler\"]\n",
        "# last_seq = last_seq.reshape((last_seq.shape[1], last_seq.shape[0]))\n",
        "# last_seq = np.expand_dims(last_seq, axis=0)\n",
        "# pred = model.predict(last_seq)\n",
        "# print(pred)\n",
        "# print(column_scaler[\"adjclose\"].inverse_transform(pred))"
      ],
      "execution_count": 0,
      "outputs": []
    },
    {
      "cell_type": "code",
      "metadata": {
        "id": "weebBoyEBdzn",
        "colab_type": "code",
        "colab": {
          "base_uri": "https://localhost:8080/",
          "height": 34
        },
        "outputId": "1b4edd0d-cfda-4e5e-dee5-56d9a791c1d6"
      },
      "source": [
        "# predict the future price\n",
        "future_price = predict(model, data)\n",
        "print(f\"Future price after {LOOKUP_STEP} days is {future_price: .2f}$\")"
      ],
      "execution_count": 62,
      "outputs": [
        {
          "output_type": "stream",
          "text": [
            "Future price after 1 days is  299.64$\n"
          ],
          "name": "stdout"
        }
      ]
    },
    {
      "cell_type": "code",
      "metadata": {
        "id": "V32lR0N_IXlT",
        "colab_type": "code",
        "colab": {}
      },
      "source": [
        "# plot the graph\n",
        "def plot_graph(model, data):\n",
        "  y_test = data[\"y_test\"]\n",
        "  X_test = data[\"X_test\"]\n",
        "  y_pred = model.predict(X_test)\n",
        "  y_test = np.squeeze(data[\"column_scaler\"][\"adjclose\"].inverse_transform(np.expand_dims(y_test,axis=0)))\n",
        "  y_pred = np.squeeze(data[\"column_scaler\"][\"adjclose\"].inverse_transform(y_pred))\n",
        "  plt.plot(y_test[-200:], c='b')\n",
        "  plt.plot(y_pred[-200:], c='r')\n",
        "  plt.xlabel(\"Days\")\n",
        "  plt.ylabel(\"Price\")\n",
        "  plt.legend([\"Acutal Price\", \"Predicted Price\"])\n",
        "  plt.show()"
      ],
      "execution_count": 0,
      "outputs": []
    },
    {
      "cell_type": "code",
      "metadata": {
        "id": "82pK3Io2JeKj",
        "colab_type": "code",
        "colab": {
          "base_uri": "https://localhost:8080/",
          "height": 279
        },
        "outputId": "4b2390d5-8edf-4744-e887-83ae55cd48b9"
      },
      "source": [
        "plot_graph(model, data)"
      ],
      "execution_count": 64,
      "outputs": [
        {
          "output_type": "display_data",
          "data": {
            "image/png": "[encoded data removed]",
            "text/plain": [
              "<Figure size 432x288 with 1 Axes>"
            ]
          },
          "metadata": {
            "tags": []
          }
        }
      ]
    },
    {
      "cell_type": "code",
      "metadata": {
        "id": "ypLtXunZJg2l",
        "colab_type": "code",
        "colab": {}
      },
      "source": [
        "def get_accuracy(model, data):\n",
        "    y_test = data[\"y_test\"]\n",
        "    X_test = data[\"X_test\"]\n",
        "    y_pred = model.predict(X_test)\n",
        "    y_test = np.squeeze(data[\"column_scaler\"][\"adjclose\"].inverse_transform(np.expand_dims(y_test, axis=0)))\n",
        "    y_pred = np.squeeze(data[\"column_scaler\"][\"adjclose\"].inverse_transform(y_pred))\n",
        "    y_pred = list(map(lambda current, future: int(float(future) > float(current)), y_test[:-LOOKUP_STEP], y_pred[LOOKUP_STEP:]))\n",
        "    y_test = list(map(lambda current, future: int(float(future) > float(current)), y_test[:-LOOKUP_STEP], y_test[LOOKUP_STEP:]))\n",
        "    return accuracy_score(y_test, y_pred)"
      ],
      "execution_count": 0,
      "outputs": []
    },
    {
      "cell_type": "code",
      "metadata": {
        "id": "2Gjs6rFmKabd",
        "colab_type": "code",
        "colab": {
          "base_uri": "https://localhost:8080/",
          "height": 34
        },
        "outputId": "7d380e66-8f85-492b-9f91-dbb60100aef2"
      },
      "source": [
        "print(str(LOOKUP_STEP) + \":\", \"Accuracy Score:\", get_accuracy(model, data))"
      ],
      "execution_count": 66,
      "outputs": [
        {
          "output_type": "stream",
          "text": [
            "1: Accuracy Score: 0.7862595419847328\n"
          ],
          "name": "stdout"
        }
      ]
    }
  ]
}